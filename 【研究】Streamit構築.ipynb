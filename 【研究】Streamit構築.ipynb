{
	"cells": [
		{
			"id": "67b5755c6eb6d47d09434c0b",
			"cell_type": "code",
			"source": "!pip install streamlit",
			"metadata": {
				"name": "First cell",
				"collapsed": true,
				"scrolled": "auto",
				"datarobot": {
					"language": "python"
				},
				"hide_code": false,
				"hide_results": false,
				"disable_run": false,
				"chart_settings": null,
				"custom_metric_settings": null,
				"custom_llm_metric_settings": null,
				"dataframe_view_options": null
			},
			"outputs": [
				{
					"output_type": "execute_result",
					"execution_count": 1,
					"data": {
						"text/plain": "Collecting streamlit\n  Downloading streamlit-1.42.1-py2.py3-none-any.whl.metadata (8.9 kB)\nRequirement already satisfied: altair<6,>=4.0 in /etc/system/kernel/.venv/lib/python3.11/site-packages (from streamlit) (4.2.0)\nRequirement already satisfied: blinker<2,>=1.0.0 in /etc/system/kernel/.venv/lib/python3.11/site-packages (from streamlit) (1.9.0)\nRequirement already satisfied: cachetools<6,>=4.0 in /etc/system/kernel/.venv/lib/python3.11/site-packages (from streamlit) (4.2.4)\nRequirement already satisfied: click<9,>=7.0 in /etc/system/kernel/.venv/lib/python3.11/site-packages (from streamlit) (8.1.8)\nRequirement already satisfied: numpy<3,>=1.23 in /etc/system/kernel/.venv/lib/python3.11/site-packages (from streamlit) (1.26.2)\nRequirement already satisfied: packaging<25,>=20 in /etc/system/kernel/.venv/lib/python3.11/site-packages (from streamlit) (24.2)\nRequirement already satisfied: pandas<3,>=1.4.0 in /etc/system/kernel/.venv/lib/python3.11/site-packages (from streamlit) (1.5.1)\nRequirement already satisfied: pillow<12,>=7.1.0 in /etc/system/kernel/.venv/lib/python3.11/site-packages (from streamlit) (10.3.0)\nRequirement already satisfied: protobuf<6,>=3.20 in /etc/system/kernel/.venv/lib/python3.11/site-packages (from streamlit) (3.20.3)\nRequirement already satisfied: pyarrow>=7.0 in /etc/system/kernel/.venv/lib/python3.11/site-packages (from streamlit) (19.0.0)\nRequirement already satisfied: requests<3,>=2.27 in /etc/system/kernel/.venv/lib/python3.11/site-packages (from streamlit) (2.32.3)\nRequirement already satisfied: rich<14,>=10.14.0 in /etc/system/kernel/.venv/lib/python3.11/site-packages (from streamlit) (13.9.4)\nRequirement already satisfied: tenacity<10,>=8.1.0 in /etc/system/kernel/.venv/lib/python3.11/site-packages (from streamlit) (9.0.0)\nCollecting toml<2,>=0.10.1 (from streamlit)\n  Downloading toml-0.10.2-py2.py3-none-any.whl.metadata (7.1 kB)\nRequirement already satisfied: typing-extensions<5,>=4.4.0 in /etc/system/kernel/.venv/lib/python3.11/site-packages (from streamlit) (4.12.2)\nCollecting watchdog<7,>=2.1.5 (from streamlit)\n  Downloading watchdog-6.0.0-py3-none-manylinux2014_x86_64.whl.metadata (44 kB)\nCollecting gitpython!=3.1.19,<4,>=3.0.7 (from streamlit)\n  Downloading GitPython-3.1.44-py3-none-any.whl.metadata (13 kB)\nCollecting pydeck<1,>=0.8.0b4 (from streamlit)\n  Downloading pydeck-0.9.1-py2.py3-none-any.whl.metadata (4.1 kB)\nRequirement already satisfied: tornado<7,>=6.0.3 in /etc/system/kernel/.venv/lib/python3.11/site-packages (from streamlit) (6.4.2)\nRequirement already satisfied: entrypoints in /etc/system/kernel/.venv/lib/python3.11/site-packages (from altair<6,>=4.0->streamlit) (0.4)\nRequirement already satisfied: jinja2 in /etc/system/kernel/.venv/lib/python3.11/site-packages (from altair<6,>=4.0->streamlit) (3.1.5)\nRequirement already satisfied: jsonschema>=3.0 in /etc/system/kernel/.venv/lib/python3.11/site-packages (from altair<6,>=4.0->streamlit) (4.23.0)\nRequirement already satisfied: toolz in /etc/system/kernel/.venv/lib/python3.11/site-packages (from altair<6,>=4.0->streamlit) (1.0.0)\nCollecting gitdb<5,>=4.0.1 (from gitpython!=3.1.19,<4,>=3.0.7->streamlit)\n  Downloading gitdb-4.0.12-py3-none-any.whl.metadata (1.2 kB)\nRequirement already satisfied: python-dateutil>=2.8.1 in /etc/system/kernel/.venv/lib/python3.11/site-packages (from pandas<3,>=1.4.0->streamlit) (2.9.0.post0)\nRequirement already satisfied: pytz>=2020.1 in /etc/system/kernel/.venv/lib/python3.11/site-packages (from pandas<3,>=1.4.0->streamlit) (2025.1)\nRequirement already satisfied: charset-normalizer<4,>=2 in /etc/system/kernel/.venv/lib/python3.11/site-packages (from requests<3,>=2.27->streamlit) (3.4.1)\nRequirement already satisfied: idna<4,>=2.5 in /etc/system/kernel/.venv/lib/python3.11/site-packages (from requests<3,>=2.27->streamlit) (3.10)\nRequirement already satisfied: urllib3<3,>=1.21.1 in /etc/system/kernel/.venv/lib/python3.11/site-packages (from requests<3,>=2.27->streamlit) (1.26.20)\nRequirement already satisfied: certifi>=2017.4.17 in /etc/system/kernel/.venv/lib/python3.11/site-packages (from requests<3,>=2.27->streamlit) (2025.1.31)\nRequirement already satisfied: markdown-it-py>=2.2.0 in /etc/system/kernel/.venv/lib/python3.11/site-packages (from rich<14,>=10.14.0->streamlit) (3.0.0)\nRequirement already satisfied: pygments<3.0.0,>=2.13.0 in /etc/system/kernel/.venv/lib/python3.11/site-packages (from rich<14,>=10.14.0->streamlit) (2.19.1)\nCollecting smmap<6,>=3.0.1 (from gitdb<5,>=4.0.1->gitpython!=3.1.19,<4,>=3.0.7->streamlit)\n  Downloading smmap-5.0.2-py3-none-any.whl.metadata (4.3 kB)\nRequirement already satisfied: MarkupSafe>=2.0 in /etc/system/kernel/.venv/lib/python3.11/site-packages (from jinja2->altair<6,>=4.0->streamlit) (3.0.2)\nRequirement already satisfied: attrs>=22.2.0 in /etc/system/kernel/.venv/lib/python3.11/site-packages (from jsonschema>=3.0->altair<6,>=4.0->streamlit) (23.2.0)\nRequirement already satisfied: jsonschema-specifications>=2023.03.6 in /etc/system/kernel/.venv/lib/python3.11/site-packages (from jsonschema>=3.0->altair<6,>=4.0->streamlit) (2024.10.1)\nRequirement already satisfied: referencing>=0.28.4 in /etc/system/kernel/.venv/lib/python3.11/site-packages (from jsonschema>=3.0->altair<6,>=4.0->streamlit) (0.36.2)\nRequirement already satisfied: rpds-py>=0.7.1 in /etc/system/kernel/.venv/lib/python3.11/site-packages (from jsonschema>=3.0->altair<6,>=4.0->streamlit) (0.22.3)\nRequirement already satisfied: mdurl~=0.1 in /etc/system/kernel/.venv/lib/python3.11/site-packages (from markdown-it-py>=2.2.0->rich<14,>=10.14.0->streamlit) (0.1.2)\nRequirement already satisfied: six>=1.5 in /etc/system/kernel/.venv/lib/python3.11/site-packages (from python-dateutil>=2.8.1->pandas<3,>=1.4.0->streamlit) (1.17.0)\nDownloading streamlit-1.42.1-py2.py3-none-any.whl (9.6 MB)\n\r\u001b[2K   \u001b[90m━━━━━━━━━━━━━━━━━━━━━━━━━━━━━━━━━━━━━━━━\u001b[0m \u001b[32m9.6/9.6 MB\u001b[0m \u001b[31m123.0 MB/s\u001b[0m eta \u001b[36m0:00:00\u001b[0m\n\u001b[?25hDownloading GitPython-3.1.44-py3-none-any.whl (207 kB)\nDownloading pydeck-0.9.1-py2.py3-none-any.whl (6.9 MB)\n\r\u001b[2K   \u001b[90m━━━━━━━━━━━━━━━━━━━━━━━━━━━━━━━━━━━━━━━━\u001b[0m \u001b[32m6.9/6.9 MB\u001b[0m \u001b[31m281.9 MB/s\u001b[0m eta \u001b[36m0:00:00\u001b[0m\n\u001b[?25hDownloading toml-0.10.2-py2.py3-none-any.whl (16 kB)\nDownloading watchdog-6.0.0-py3-none-manylinux2014_x86_64.whl (79 kB)\nDownloading gitdb-4.0.12-py3-none-any.whl (62 kB)\nDownloading smmap-5.0.2-py3-none-any.whl (24 kB)\nInstalling collected packages: watchdog, toml, smmap, pydeck, gitdb, gitpython, streamlit\nSuccessfully installed gitdb-4.0.12 gitpython-3.1.44 pydeck-0.9.1 smmap-5.0.2 streamlit-1.42.1 toml-0.10.2 watchdog-6.0.0\n"
					},
					"metadata": {}
				}
			],
			"execution_count": 1
		},
		{
			"id": "67b576bae1e5a2d0c55c9be4",
			"cell_type": "code",
			"source": "x = 10\nx",
			"metadata": {
				"collapsed": false,
				"scrolled": false,
				"datarobot": {
					"language": "python"
				},
				"hide_code": false,
				"hide_results": false,
				"disable_run": false,
				"chart_settings": null,
				"custom_metric_settings": null,
				"custom_llm_metric_settings": null,
				"dataframe_view_options": null
			},
			"outputs": [
				{
					"output_type": "execute_result",
					"execution_count": 6,
					"data": {
						"text/plain": "10"
					},
					"metadata": {}
				}
			],
			"execution_count": 6
		},
		{
			"id": "67b577506eb6d47d09434cb4",
			"cell_type": "code",
			"source": "import pandas as pd\ndf = pd.DataFrame({'col1': [1,2,3]})\ndf",
			"metadata": {
				"collapsed": false,
				"scrolled": false,
				"datarobot": {
					"language": "python"
				},
				"hide_code": false,
				"hide_results": false,
				"disable_run": false,
				"chart_settings": null,
				"custom_metric_settings": null,
				"custom_llm_metric_settings": null,
				"dataframe_view_options": null
			},
			"outputs": [
				{
					"output_type": "execute_result",
					"execution_count": 7,
					"data": {
						"text/plain": "   col1\n0     1\n1     2\n2     3",
						"text/html": "<div>\n<style scoped>\n    .dataframe tbody tr th:only-of-type {\n        vertical-align: middle;\n    }\n\n    .dataframe tbody tr th {\n        vertical-align: top;\n    }\n\n    .dataframe thead th {\n        text-align: right;\n    }\n</style>\n<table border=\"1\" class=\"dataframe\">\n  <thead>\n    <tr style=\"text-align: right;\">\n      <th></th>\n      <th>col1</th>\n    </tr>\n  </thead>\n  <tbody>\n    <tr>\n      <th>0</th>\n      <td>1</td>\n    </tr>\n    <tr>\n      <th>1</th>\n      <td>2</td>\n    </tr>\n    <tr>\n      <th>2</th>\n      <td>3</td>\n    </tr>\n  </tbody>\n</table>\n</div>",
						"application/vnd.dataframe+json": {
							"data": [
								{
									"index": 0,
									"col1": 1
								},
								{
									"index": 1,
									"col1": 2
								},
								{
									"index": 2,
									"col1": 3
								}
							],
							"columns": [
								{
									"name": "index",
									"type": "integer"
								},
								{
									"name": "col1",
									"type": "integer"
								}
							],
							"count": 3,
							"totalCount": 3,
							"offset": 0,
							"limit": 10,
							"referenceId": 140516761542096,
							"sortedBy": "",
							"indexKey": "index",
							"error": []
						}
					},
					"metadata": {}
				}
			],
			"execution_count": 7
		},
		{
			"id": "67b577f26eb6d47d09434cef",
			"cell_type": "code",
			"source": "import streamlit as st",
			"metadata": {
				"collapsed": false,
				"scrolled": false,
				"datarobot": {
					"language": "python"
				},
				"hide_code": false,
				"hide_results": false,
				"disable_run": false,
				"chart_settings": null,
				"custom_metric_settings": null,
				"custom_llm_metric_settings": null,
				"dataframe_view_options": null
			},
			"outputs": [],
			"execution_count": null
		},
		{
			"id": "67b577fee1e5a2d0c55c9c57",
			"cell_type": "code",
			"source": "st.radio(\"好きなマイケルは？\", ('ジャクソン', 'ジョーダン', 'ホフマン'))\n",
			"metadata": {
				"collapsed": false,
				"scrolled": false,
				"datarobot": {
					"language": "python"
				},
				"hide_code": false,
				"hide_results": false,
				"disable_run": false,
				"chart_settings": null,
				"custom_metric_settings": null,
				"custom_llm_metric_settings": null,
				"dataframe_view_options": null
			},
			"outputs": [
				{
					"output_type": "execute_result",
					"execution_count": 9,
					"data": {
						"text/plain": "2025-02-19 06:19:47.194 WARNING streamlit.runtime.scriptrunner_utils.script_run_context: Thread 'MainThread': missing ScriptRunContext! This warning can be ignored when running in bare mode.\n2025-02-19 06:19:47.196 WARNING streamlit.runtime.scriptrunner_utils.script_run_context: Thread 'MainThread': missing ScriptRunContext! This warning can be ignored when running in bare mode.\n2025-02-19 06:19:47.196 WARNING streamlit.runtime.scriptrunner_utils.script_run_context: Thread 'MainThread': missing ScriptRunContext! This warning can be ignored when running in bare mode.\n2025-02-19 06:19:47.197 WARNING streamlit.runtime.scriptrunner_utils.script_run_context: Thread 'MainThread': missing ScriptRunContext! This warning can be ignored when running in bare mode.\n2025-02-19 06:19:47.198 WARNING streamlit.runtime.state.session_state_proxy: Session state does not function when running a script without `streamlit run`\n2025-02-19 06:19:47.199 WARNING streamlit.runtime.scriptrunner_utils.script_run_context: Thread 'MainThread': missing ScriptRunContext! This warning can be ignored when running in bare mode.\n2025-02-19 06:19:47.420 \n  \u001b[33m\u001b[1mWarning:\u001b[0m to view this Streamlit app on a browser, run it with the following\n  command:\n    streamlit run /etc/system/kernel/.venv/lib/python3.11/site-packages/ipykernel_launcher.py [ARGUMENTS]\n2025-02-19 06:19:47.421 Thread 'MainThread': missing ScriptRunContext! This warning can be ignored when running in bare mode.\n'ジャクソン'"
					},
					"metadata": {}
				}
			],
			"execution_count": 9
		},
		{
			"id": "67b57803e1e5a2d0c55c9c5a",
			"cell_type": "code",
			"source": "",
			"metadata": {
				"collapsed": false,
				"scrolled": false,
				"datarobot": {
					"language": "python"
				},
				"hide_code": false,
				"hide_results": false,
				"disable_run": false,
				"chart_settings": null,
				"custom_metric_settings": null,
				"custom_llm_metric_settings": null,
				"dataframe_view_options": null
			},
			"outputs": [],
			"execution_count": null
		}
	],
	"metadata": {
		"kernelspec": {
			"name": "python",
			"language": "python",
			"display_name": "Python 3.11"
		},
		"language_info": {
			"name": "python",
			"version": "3.11"
		}
	},
	"nbformat": 4,
	"nbformat_minor": 5
}